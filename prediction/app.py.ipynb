{
 "cells": [
  {
   "cell_type": "code",
   "execution_count": 1,
   "metadata": {},
   "outputs": [],
   "source": [
    "import numpy as np\n",
    "import pickle\n",
    "from flask import Flask, request, render_template\n",
    "\n",
    "\n",
    "# Load ML model\n",
    "model = pickle.load(open('model.pkl', 'rb')) "
   ]
  },
  {
   "cell_type": "code",
   "execution_count": 2,
   "metadata": {},
   "outputs": [],
   "source": [
    "# Create application\n",
    "#app = Flask(__name__)\n",
    "#from flask import Flask\n",
    "\n",
    "app = Flask(__name__ , template_folder='templates')\n",
    "\n",
    "# Bind home function to URL\n",
    "@app.route('/')\n",
    "def home():\n",
    "    return render_template(\"ind.html\")\n",
    "\n",
    "\n",
    "# Bind predict function to URL\n",
    "@app.route('/predict', methods =['GET','POST'])\n",
    "def predict():\n",
    "    \n",
    "    # Put all form entries values in a list \n",
    "    features = [float(i) for i in request.form.values()]\n",
    "    # Convert features to array\n",
    "    array_features = [np.array(features)]\n",
    "    # Predict features\n",
    "    prediction = model.predict(array_features)\n",
    "    \n",
    "    output = prediction\n",
    "    \n",
    "    \n",
    "    #if output == 1:\n",
    "        # render_template('ind.html', \n",
    "                              # result = \"The patient is  likely to have heart disease!\")\n",
    "                               #Eat a healthy diet.\n",
    "                               #Be physically active.\n",
    "                               #Live tobacco-free.\n",
    "                               #Manage conditions.\n",
    "                               #Take your medicine.\n",
    "    #else:\n",
    "        #return render_template('ind.html', \n",
    "                               #result = 'The patient is not likely to have heart disease!')\n",
    "    if output == 0:\n",
    "        return render_template('ind.html', result='THE PATIENT IS NOT LIKELY TO HAVE A HEART FAILURE')\n",
    "    else:\n",
    "        return render_template('ind.html', result='THE PATIENT IS LIKELY TO HAVE A HEART FAILURE')\n"
   ]
  },
  {
   "cell_type": "code",
   "execution_count": null,
   "metadata": {},
   "outputs": [
    {
     "name": "stdout",
     "output_type": "stream",
     "text": [
      " * Serving Flask app \"__main__\" (lazy loading)\n",
      " * Environment: production\n",
      "   WARNING: This is a development server. Do not use it in a production deployment.\n",
      "   Use a production WSGI server instead.\n",
      " * Debug mode: off\n"
     ]
    },
    {
     "name": "stderr",
     "output_type": "stream",
     "text": [
      " * Running on http://127.0.0.1:5003/ (Press CTRL+C to quit)\n",
      "127.0.0.1 - - [01/May/2021 08:33:39] \"\u001b[37mGET / HTTP/1.1\u001b[0m\" 200 -\n",
      "127.0.0.1 - - [01/May/2021 08:33:39] \"\u001b[36mGET /static/main.css HTTP/1.1\u001b[0m\" 304 -\n",
      "127.0.0.1 - - [01/May/2021 08:34:46] \"\u001b[37mPOST /predict HTTP/1.1\u001b[0m\" 200 -\n",
      "127.0.0.1 - - [01/May/2021 08:35:31] \"\u001b[37mPOST /predict HTTP/1.1\u001b[0m\" 200 -\n",
      "127.0.0.1 - - [01/May/2021 10:33:19] \"\u001b[37mGET / HTTP/1.1\u001b[0m\" 200 -\n",
      "127.0.0.1 - - [01/May/2021 10:34:05] \"\u001b[37mPOST /predict HTTP/1.1\u001b[0m\" 200 -\n"
     ]
    }
   ],
   "source": [
    "if __name__ == '__main__':\n",
    "#Run the application\n",
    "    app.run(port=5003)"
   ]
  },
  {
   "cell_type": "code",
   "execution_count": null,
   "metadata": {},
   "outputs": [],
   "source": [
    "h"
   ]
  },
  {
   "cell_type": "code",
   "execution_count": null,
   "metadata": {},
   "outputs": [],
   "source": [
    "# Bind predict function to URL\n",
    "@app.route('/predict', methods =['GET','POST'])\n",
    "def predict():\n",
    "    \n",
    "    # Put all form entries values in a list \n",
    "    features = [float(i) for i in request.form.values()]\n",
    "    # Convert features to array\n",
    "    array_features = [np.array(features)]\n",
    "    # Predict features\n",
    "    prediction = model.predict(array_features)\n",
    "    \n",
    "    output = prediction\n",
    "    \n",
    "    # Check the output values and retrive the result with html tag based on the value\n",
    "    #if output == 1:\n",
    "        #return render_template('ind.html', \n",
    "                               #result = 'The patient is not likely to have heart disease!')\n",
    "#else:\n",
    "        #return render_template('ind.html', \n",
    "                               #result = 'The patient is likely to have heart disease!')\n",
    "    \n",
    "    if output == 1:\n",
    "        return render_template('ind.html', prediction_text='THE PATIENT IS NOT LIKELY TO HAVE A HEART FAILURE')\n",
    "    else:\n",
    "         return render_template('ind.html', prediction_text='THE PATIENT IS LIKELY TO HAVE A HEART FAILURE')\n"
   ]
  },
  {
   "cell_type": "code",
   "execution_count": null,
   "metadata": {},
   "outputs": [],
   "source": [
    "#import pickle\n",
    "#pickle.dump(lr_clf, open('model.pkl', 'wb'))\n",
    "#model = pickle.load(open('model.pkl', 'rb'))\n",
    "#print(model)\n",
    "M"
   ]
  },
  {
   "cell_type": "code",
   "execution_count": null,
   "metadata": {},
   "outputs": [],
   "source": [
    "from flask import Flask\n",
    "import os"
   ]
  },
  {
   "cell_type": "code",
   "execution_count": null,
   "metadata": {},
   "outputs": [],
   "source": [
    "import numpy as np\n",
    "from flask import Flask, request, jsonify, render_template\n",
    "import pickle\n",
    "from sklearn.preprocessing import StandardScaler"
   ]
  },
  {
   "cell_type": "code",
   "execution_count": null,
   "metadata": {},
   "outputs": [],
   "source": [
    "from flask import Flask\n",
    "app = Flask(__name__ , template_folder='templates')"
   ]
  },
  {
   "cell_type": "code",
   "execution_count": null,
   "metadata": {},
   "outputs": [],
   "source": [
    "@app.route('/')\n",
    "def home():\n",
    "    return render_template('ind.html')"
   ]
  },
  {
   "cell_type": "code",
   "execution_count": null,
   "metadata": {},
   "outputs": [],
   "source": [
    "@app.route('/predict',methods=['POST'])\n",
    "def predict():\n",
    "\n",
    "    features = [float(x) for x in request.form.values()]\n",
    "    final_features = [np.array(features)]\n",
    "    final_features = scaler.transform(final_features)    \n",
    "    prediction = model.predict(final_features)\n",
    "    print(\"final features\",final_features)\n",
    "    print(\"prediction:\",prediction)\n",
    "    output = round(prediction[0], 2)\n",
    "    print(output)\n",
    "\n",
    "    if output == 0:\n",
    "        return render_template('ind.html', prediction_text='THE PATIENT IS NOT LIKELY TO HAVE A HEART FAILURE')\n",
    "    else:\n",
    "         return render_template('ind.html', prediction_text='THE PATIENT IS LIKELY TO HAVE A HEART FAILURE')\n",
    "        \n",
    "@app.route('/predict_api',methods=['POST'])\n",
    "def results():\n",
    "\n",
    "    data = request.get_json(force=True)\n",
    "    prediction = model.predict([np.array(list(data.values()))])\n",
    "\n",
    "    output = prediction[0]\n",
    "    return jsonify(output)\n",
    "\n"
   ]
  },
  {
   "cell_type": "code",
   "execution_count": null,
   "metadata": {},
   "outputs": [],
   "source": [
    "if __name__ == \"__main__\":\n",
    "    app.run()"
   ]
  },
  {
   "cell_type": "code",
   "execution_count": null,
   "metadata": {},
   "outputs": [],
   "source": []
  }
 ],
 "metadata": {
  "kernelspec": {
   "display_name": "Python 3",
   "language": "python",
   "name": "python3"
  },
  "language_info": {
   "codemirror_mode": {
    "name": "ipython",
    "version": 3
   },
   "file_extension": ".py",
   "mimetype": "text/x-python",
   "name": "python",
   "nbconvert_exporter": "python",
   "pygments_lexer": "ipython3",
   "version": "3.8.3"
  }
 },
 "nbformat": 4,
 "nbformat_minor": 4
}
